{
 "cells": [
  {
   "cell_type": "code",
   "execution_count": 1,
   "metadata": {
    "collapsed": true
   },
   "outputs": [],
   "source": [
    "import tensor_comprehensions as tc\n",
    "import torch\n",
    "import torch.nn as nn\n",
    "from torch.autograd import Variable\n",
    "\n",
    "import numpy as np\n",
    "import matplotlib.pyplot as plt\n",
    "\n",
    "import os\n",
    "import sys\n",
    "import logging\n",
    "import time"
   ]
  },
  {
   "cell_type": "code",
   "execution_count": 2,
   "metadata": {
    "collapsed": true
   },
   "outputs": [],
   "source": [
    "# as recommended by the authors for better performance\n",
    "tune_settings = {\n",
    "    \"threads\": 32,\n",
    "    \"generations\": 8,\n",
    "    \"pop_size\": 25,\n",
    "    \"number_elites\": 3\n",
    "}"
   ]
  },
  {
   "cell_type": "code",
   "execution_count": 31,
   "metadata": {
    "collapsed": true
   },
   "outputs": [],
   "source": [
    "mobilenet_lang = tc.database['small_mobilenet']['lang']"
   ]
  },
  {
   "cell_type": "code",
   "execution_count": 32,
   "metadata": {},
   "outputs": [],
   "source": [
    "# tune mobilenet for the dimensions typical of mobilenet on a single input\n",
    "\n",
    "I = torch.randn(128, 56, 56).cuda()\n",
    "W1 = torch.randn(128, 3, 3).cuda()\n",
    "B1 = torch.randn(128).cuda()\n",
    "W2 = torch.randn(128, 128).cuda()\n",
    "B2 = torch.randn(128).cuda()\n"
   ]
  },
  {
   "cell_type": "code",
   "execution_count": null,
   "metadata": {
    "collapsed": true
   },
   "outputs": [],
   "source": [
    "\n",
    "small_mobilenet = tc.define(mobilenet_lang, name='small_mobilenet')\n",
    "small_mobilenet.autotune(I, W1, B1, W2, B2,\n",
    "                         cache='cache/small_mobilenet_128_56_3_128',\n",
    "                         **tune_settings,\n",
    "                         options=tc.Options('conv'))"
   ]
  },
  {
   "cell_type": "code",
   "execution_count": 34,
   "metadata": {},
   "outputs": [],
   "source": [
    "# run twice to prep cuda\n",
    "small_mobilenet = tc.define(mobilenet_lang, name='small_mobilenet')\n",
    "small_mobilenet(I, W1, B1, W2, B2, cache='cache/small_mobilenet_128_56_3_128')\n",
    "torch.cuda.synchronize()\n",
    "small_mobilenet(I, W1, B1, W2, B2, cache='cache/small_mobilenet_128_56_3_128')\n",
    "torch.cuda.synchronize()"
   ]
  },
  {
   "cell_type": "code",
   "execution_count": 36,
   "metadata": {},
   "outputs": [
    {
     "name": "stdout",
     "output_type": "stream",
     "text": [
      "total time: 0.458713924007\n",
      "[ 0.00085937  0.0008865   0.00097795]\n"
     ]
    }
   ],
   "source": [
    "# test performance using TC\n",
    "\n",
    "temp = torch.zeros(128, 56, 56).cuda()\n",
    "output = torch.zeros(128, 56, 56).cuda()\n",
    "torch.cuda.synchronize()\n",
    "\n",
    "timings = np.zeros(500)\n",
    "\n",
    "for i in range(500):\n",
    "    start = time.perf_counter()\n",
    "    small_mobilenet(I, W1, B1, W2, B2,\n",
    "         cache='cache/small_mobilenet_128_56_3_128', \n",
    "         outputs=[temp, output])\n",
    "    torch.cuda.synchronize()\n",
    "    timings[i] = time.perf_counter() - start\n",
    "\n",
    "total_elapsed = np.sum(timings)\n",
    "print('total time: ' + str(total_elapsed))\n",
    "\n",
    "# get percentile statistics\n",
    "percentiles = np.percentile(timings, [0, 50, 90])\n",
    "print(percentiles)"
   ]
  },
  {
   "cell_type": "code",
   "execution_count": 37,
   "metadata": {},
   "outputs": [
    {
     "name": "stdout",
     "output_type": "stream",
     "text": [
      "total time: 0.0718612639885\n",
      "[ 0.00013221  0.00013758  0.00015918]\n"
     ]
    }
   ],
   "source": [
    "# test the torch equivalent\n",
    "\n",
    "class MobileNet(nn.Module):\n",
    "    def __init__(self):\n",
    "        super(MobileNet, self).__init__()\n",
    "        self.layer = nn.Sequential(\n",
    "            nn.Conv2d(128, 128, 3, padding=1, groups=128),\n",
    "            nn.ReLU(inplace=True),\n",
    "            nn.Conv2d(128, 128, 1, padding=0),\n",
    "            nn.ReLU(inplace=True))\n",
    "    \n",
    "    def forward(self, x):\n",
    "        return self.layer(x)\n",
    "\n",
    "MN = MobileNet()\n",
    "MN.cuda()\n",
    "\n",
    "var_input = Variable(torch.randn(1, 128, 56, 56).cuda())\n",
    "# run a couple times to work out start hiccups\n",
    "MN(var_input)\n",
    "torch.cuda.synchronize()\n",
    "MN(var_input)\n",
    "torch.cuda.synchronize()\n",
    "\n",
    "\n",
    "# test performance\n",
    "timings = np.zeros(500)\n",
    "output = torch.randn(1, 128, 56, 56).cuda()\n",
    "\n",
    "for i in range(500):\n",
    "    start = time.perf_counter()\n",
    "    output = MN(var_input)\n",
    "    torch.cuda.synchronize()\n",
    "    timings[i] = time.perf_counter() - start\n",
    "\n",
    "total_elapsed = np.sum(timings)\n",
    "print('total time: ' + str(total_elapsed))\n",
    "\n",
    "# get percentile statistics\n",
    "percentiles = np.percentile(timings, [0, 50, 90])\n",
    "print(percentiles)"
   ]
  },
  {
   "cell_type": "code",
   "execution_count": 2,
   "metadata": {
    "collapsed": true
   },
   "outputs": [],
   "source": [
    "# try with a larger batch size\n",
    "\n",
    "batch_mobilenet_lang = \"\"\"\n",
    "def batch_mobilenet(float(B, C1, H, W) I, float(C1, KH1, KW1) W1, float(C1) B1, float(C2, C1) W2, float(C2) B2)\n",
    "-> (O1, O2) {\n",
    "    O1(b, c1, h, w) +=! I(b, c1, h + kh, w + kw) * W1(c1, kh, kw)\n",
    "    O1(b, c1, h, w)  = O1(b, c1, h, w) + B1(c1)\n",
    "    O1(b, c1, h, w)  = fmax(O1(b, c1, h, w), 0)\n",
    "\n",
    "    O2(b, c2, h, w) +=! O1(b, c1, h, w) * W2(c2, c1)\n",
    "    O2(b, c2, h, w)  = O2(b, c2, h, w) + B2(c2)\n",
    "    O2(b, c2, h, w)  = fmax(O2(b, c2, h, w), 0)\n",
    "}\n",
    "\"\"\""
   ]
  },
  {
   "cell_type": "code",
   "execution_count": 3,
   "metadata": {
    "collapsed": true
   },
   "outputs": [],
   "source": [
    "# still above author-recommended settings, but less to reduce tuning time\n",
    "tune_settings = {\n",
    "    \"threads\": 32,\n",
    "    \"generations\": 5,\n",
    "    \"pop_size\": 12,\n",
    "    \"number_elites\": 2\n",
    "}"
   ]
  },
  {
   "cell_type": "code",
   "execution_count": 5,
   "metadata": {},
   "outputs": [
    {
     "name": "stdout",
     "output_type": "stream",
     "text": [
      "[INFO]: Autotuning cache will be saved to: cache/batch_mobilenet.tc.cuda/options\n"
     ]
    },
    {
     "data": {
      "text/plain": [
       "<tensor_comprehensions.mapping_options.Options at 0x7fb8019fb6f8>"
      ]
     },
     "execution_count": 5,
     "metadata": {},
     "output_type": "execute_result"
    }
   ],
   "source": [
    "# tune mobilenet for the typical mobilenet dimensions and a normal batch size\n",
    "\n",
    "I = torch.randn(32, 64, 56, 56).cuda()\n",
    "W1 = torch.randn(64, 3, 3).cuda()\n",
    "B1 = torch.randn(64).cuda()\n",
    "W2 = torch.randn(32, 64).cuda()\n",
    "B2 = torch.randn(32).cuda()\n",
    "\n",
    "batch_mobilenet = tc.define(batch_mobilenet_lang, name='batch_mobilenet')\n",
    "batch_mobilenet.autotune(I, W1, B1, W2, B2,\n",
    "                         cache='cache/batch_mobilenet.tc',\n",
    "                         **tune_settings,\n",
    "                         options=tc.Options('conv'))"
   ]
  },
  {
   "cell_type": "code",
   "execution_count": 20,
   "metadata": {},
   "outputs": [
    {
     "name": "stdout",
     "output_type": "stream",
     "text": [
      "torch.Size([32, 64, 56, 56])\n"
     ]
    }
   ],
   "source": [
    "# run twice to prep cuda\n",
    "\n",
    "batch_mobilenet(I, W1, B1, W2, B2, cache='cache/batch_mobilenet.tc')\n",
    "torch.cuda.synchronize()\n",
    "batch_mobilenet(I, W1, B1, W2, B2, cache='cache/batch_mobilenet.tc')\n",
    "torch.cuda.synchronize()\n",
    "\n",
    "print(I.size())"
   ]
  },
  {
   "cell_type": "code",
   "execution_count": 29,
   "metadata": {},
   "outputs": [
    {
     "name": "stdout",
     "output_type": "stream",
     "text": [
      "total time: 4.75282455601\n",
      "[ 0.00458481  0.00468457  0.00475157]\n"
     ]
    }
   ],
   "source": [
    "# test performance using TC\n",
    "\n",
    "temp = torch.zeros(32, 64, 56, 56).cuda()\n",
    "output = torch.zeros(32, 32, 56, 56).cuda()\n",
    "torch.cuda.synchronize()\n",
    "\n",
    "timings = np.zeros(1000)\n",
    "\n",
    "for i in range(1000):\n",
    "    start = time.perf_counter()\n",
    "    batch_mobilenet(I, W1, B1, W2, B2,\n",
    "         cache='cache/batch_mobilenet.tc',\n",
    "         outputs=[temp, output])\n",
    "    torch.cuda.synchronize()\n",
    "    timings[i] = time.perf_counter() - start\n",
    "\n",
    "total_elapsed = np.sum(timings)\n",
    "print('total time: ' + str(total_elapsed))\n",
    "\n",
    "# get percentile statistics\n",
    "percentiles = np.percentile(timings, [0, 50, 90])\n",
    "print(percentiles)"
   ]
  },
  {
   "cell_type": "code",
   "execution_count": 26,
   "metadata": {},
   "outputs": [
    {
     "name": "stdout",
     "output_type": "stream",
     "text": [
      "total time: 1.13856418202\n",
      "[ 0.00111421  0.00112798  0.00115446]\n"
     ]
    }
   ],
   "source": [
    "# test the torch equivalent\n",
    "\n",
    "class NMobileNet(nn.Module):\n",
    "    def __init__(self):\n",
    "        super(NMobileNet, self).__init__()\n",
    "        self.layer = nn.Sequential(\n",
    "            nn.Conv2d(64, 64, 3, padding=1, groups=64),\n",
    "            nn.ReLU(inplace=True),\n",
    "            nn.Conv2d(64, 32, 1, padding=0),\n",
    "            nn.ReLU(inplace=True))\n",
    "    \n",
    "    def forward(self, x):\n",
    "        return self.layer(x)\n",
    "\n",
    "MN = NMobileNet()\n",
    "MN.cuda()\n",
    "\n",
    "var_input = Variable(torch.randn(32, 64, 56, 56).cuda())\n",
    "# run a couple times to work out start hiccups\n",
    "MN(var_input)\n",
    "torch.cuda.synchronize()\n",
    "MN(var_input)\n",
    "torch.cuda.synchronize()\n",
    "\n",
    "\n",
    "# test performance\n",
    "timings = np.zeros(1000)\n",
    "output = torch.randn(32, 32, 56, 56).cuda()\n",
    "\n",
    "for i in range(1000):\n",
    "    start = time.perf_counter()\n",
    "    output = MN(var_input)\n",
    "    torch.cuda.synchronize()\n",
    "    timings[i] = time.perf_counter() - start\n",
    "\n",
    "total_elapsed = np.sum(timings)\n",
    "print('total time: ' + str(total_elapsed))\n",
    "\n",
    "# get percentile statistics\n",
    "percentiles = np.percentile(timings, [0, 50, 90])\n",
    "print(percentiles)"
   ]
  },
  {
   "cell_type": "code",
   "execution_count": null,
   "metadata": {
    "collapsed": true
   },
   "outputs": [],
   "source": []
  }
 ],
 "metadata": {
  "kernelspec": {
   "display_name": "Python 3",
   "language": "python",
   "name": "python3"
  },
  "language_info": {
   "codemirror_mode": {
    "name": "ipython",
    "version": 3
   },
   "file_extension": ".py",
   "mimetype": "text/x-python",
   "name": "python",
   "nbconvert_exporter": "python",
   "pygments_lexer": "ipython3",
   "version": "3.6.2"
  }
 },
 "nbformat": 4,
 "nbformat_minor": 2
}
