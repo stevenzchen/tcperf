{
 "cells": [
  {
   "cell_type": "code",
   "execution_count": 1,
   "metadata": {
    "collapsed": true
   },
   "outputs": [],
   "source": [
    "import tensor_comprehensions as tc\n",
    "import torch\n",
    "import numpy as np\n",
    "import matplotlib.pyplot as plt\n",
    "\n",
    "import os\n",
    "import sys\n",
    "import logging\n",
    "import time"
   ]
  },
  {
   "cell_type": "code",
   "execution_count": 2,
   "metadata": {
    "collapsed": true
   },
   "outputs": [],
   "source": [
    "tc.decode('cache/tbmm_500_26_72_26.tc.options')"
   ]
  },
  {
   "cell_type": "code",
   "execution_count": 3,
   "metadata": {
    "collapsed": true
   },
   "outputs": [],
   "source": [
    "# try doing tbmm using the options provided in the paper\n",
    "\n",
    "options = tc.Options('naive')"
   ]
  },
  {
   "cell_type": "code",
   "execution_count": 4,
   "metadata": {},
   "outputs": [
    {
     "name": "stdout",
     "output_type": "stream",
     "text": [
      "<tensor_comprehensions.mapping_options.Options object at 0x7f0644471a40>\n"
     ]
    }
   ],
   "source": [
    "print(options)"
   ]
  },
  {
   "cell_type": "code",
   "execution_count": 10,
   "metadata": {},
   "outputs": [
    {
     "data": {
      "text/plain": [
       "<tensor_comprehensions.mapping_options.Options at 0x7f0644471a40>"
      ]
     },
     "execution_count": 10,
     "metadata": {},
     "output_type": "execute_result"
    }
   ],
   "source": [
    "options.tile([1,1])\n",
    "options.mapToThreads([8, 14, 14])\n",
    "options.mapToBlocks([32, 32, 3])\n",
    "options.useSharedMemory(True)\n",
    "options.unrollCopyShared(True)\n",
    "options.unroll(256)\n"
   ]
  },
  {
   "cell_type": "code",
   "execution_count": 6,
   "metadata": {
    "collapsed": true
   },
   "outputs": [],
   "source": [
    "gconv_lang = tc.database['group_convolution']['lang']\n",
    "\n",
    "gconv = tc.define(gconv_lang, name='group_convolution')"
   ]
  },
  {
   "cell_type": "code",
   "execution_count": 12,
   "metadata": {},
   "outputs": [
    {
     "name": "stdout",
     "output_type": "stream",
     "text": [
      "[ERROR]: Caught Exception: Error at: /opt/conda/conda-bld/tensor_comprehensions_1520457708651/work/src/core/rtc.cc:183: CUDA_ERROR_INVALID_VALUE\n"
     ]
    }
   ],
   "source": [
    "# try the sizes given in the paper\n",
    "# N = 32, G = 32, F = 16, C = 16, W = 14, H = 14\n",
    "\n",
    "I = torch.randn(128, 16, 16, 10, 10).cuda()\n",
    "W1 = torch.randn(16, 16, 16, 3, 3).cuda()\n",
    "B = torch.randn(16, 16).cuda()\n",
    "\n",
    "out = gconv(I, W1, B, options=options)"
   ]
  },
  {
   "cell_type": "code",
   "execution_count": 11,
   "metadata": {},
   "outputs": [
    {
     "name": "stdout",
     "output_type": "stream",
     "text": [
      "total time: 1.106699081\n",
      "[ 0.0010849   0.00109942  0.00111415]\n"
     ]
    }
   ],
   "source": [
    "# test performance using TC\n",
    "torch.cuda.synchronize()\n",
    "\n",
    "timings = np.zeros(1000)\n",
    "\n",
    "for i in range(1000):\n",
    "    start = time.perf_counter()\n",
    "    output = gconv(I, W1, B, options=options)\n",
    "    torch.cuda.synchronize()\n",
    "    timings[i] = time.perf_counter() - start\n",
    "\n",
    "total_elapsed = np.sum(timings)\n",
    "print('total time: ' + str(total_elapsed))\n",
    "\n",
    "# get percentile statistics\n",
    "percentiles = np.percentile(timings, [0, 50, 90])\n",
    "print(percentiles)\n",
    "\n",
    "\n"
   ]
  },
  {
   "cell_type": "code",
   "execution_count": null,
   "metadata": {
    "collapsed": true
   },
   "outputs": [],
   "source": []
  }
 ],
 "metadata": {
  "kernelspec": {
   "display_name": "Python 3",
   "language": "python",
   "name": "python3"
  },
  "language_info": {
   "codemirror_mode": {
    "name": "ipython",
    "version": 3
   },
   "file_extension": ".py",
   "mimetype": "text/x-python",
   "name": "python",
   "nbconvert_exporter": "python",
   "pygments_lexer": "ipython3",
   "version": "3.6.2"
  }
 },
 "nbformat": 4,
 "nbformat_minor": 2
}
