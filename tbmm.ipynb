{
 "cells": [
  {
   "cell_type": "code",
   "execution_count": 1,
   "metadata": {
    "collapsed": true
   },
   "outputs": [],
   "source": [
    "import tensor_comprehensions as tc\n",
    "import torch\n",
    "import numpy as np\n",
    "import matplotlib.pyplot as plt\n",
    "\n",
    "import os\n",
    "import sys\n",
    "import logging\n",
    "import time"
   ]
  },
  {
   "cell_type": "code",
   "execution_count": 2,
   "metadata": {},
   "outputs": [
    {
     "data": {
      "text/plain": [
       "['def matmul_grad(float(M,N) A, float(N,K), float(M,K) O_grad) -> (A_grad, B_grad){\\n  A_grad(i, j) +=! O_grad(i, kk) * B(j, kk)\\n  B_grad(i, j) +=! O_grad(kk, j) * A(kk, i)\\n}\\n',\n",
       " 'def convolution_strided_grad(float(N, C, H, W) I, float(M, C, KH, KW) W1, float(N, M, H, W) O_grad)\\n-> (I_grad, W1_grad) {{\\n  I_grad(n, c, h, w) +=! O_grad(n, m, {sh} * h - kh, {sw} * w - kw) * W1(m, c, kh, kw)\\n  W1_grad(m, c, kh, kw) +=! O_grad(n, m, {sh} * h - kh, {sw} * w - kw) * I(n, c, h, w)\\n}}\\n']"
      ]
     },
     "execution_count": 2,
     "metadata": {},
     "output_type": "execute_result"
    }
   ],
   "source": [
    "# as of current, there are only two layers with gradient code:\n",
    "# matmul and convolution_strided\n",
    "\n",
    "[tc.database[entry]['grad'] for entry in tc.database if 'grad' in tc.database[entry].keys()]"
   ]
  },
  {
   "cell_type": "code",
   "execution_count": null,
   "metadata": {},
   "outputs": [],
   "source": [
    "# default autotuner settings don't specify very much\n",
    "tc.autotuner_settings"
   ]
  },
  {
   "cell_type": "code",
   "execution_count": null,
   "metadata": {
    "collapsed": true
   },
   "outputs": [],
   "source": [
    "# as recommended by the authors for better performance\n",
    "tune_settings = {\n",
    "    \"threads\": 32,\n",
    "    \"generations\": 8,\n",
    "    \"pop_size\": 20,\n",
    "    \"number_elites\": 4\n",
    "}"
   ]
  },
  {
   "cell_type": "code",
   "execution_count": null,
   "metadata": {
    "collapsed": true
   },
   "outputs": [],
   "source": [
    "# heavier tune settings\n",
    "tune_settings = {\n",
    "    \"threads\": 32,\n",
    "    \"generations\": 10,\n",
    "    \"pop_size\": 50,\n",
    "    \"number_elites\": 3\n",
    "}"
   ]
  },
  {
   "cell_type": "code",
   "execution_count": 3,
   "metadata": {
    "collapsed": true
   },
   "outputs": [],
   "source": [
    "tbmm_lang = \"\"\"\n",
    "    def tbmm(float(B, N, M) X, float(B, K, M) Y) -> (Z) {\n",
    "        Z(b, n, k) +=! X(b, n, m) * Y(b, k, m)\n",
    "    }\n",
    "\"\"\""
   ]
  },
  {
   "cell_type": "code",
   "execution_count": 6,
   "metadata": {
    "collapsed": true
   },
   "outputs": [],
   "source": [
    "tbmm = tc.define(tbmm_lang, name='tbmm')"
   ]
  },
  {
   "cell_type": "code",
   "execution_count": null,
   "metadata": {},
   "outputs": [],
   "source": [
    "# tune tbmm for the paper-given batch size of (B, N, M, K) = (500, 26, 72, 26), time how long it takes\n",
    "\n",
    "mat1 = torch.randn(500, 26, 72).cuda()\n",
    "mat2 = torch.randn(500, 26, 72).cuda()\n",
    "\n",
    "tbmm = tc.define(tbmm_lang, name='tbmm')\n",
    "tbmm.autotune(mat1, mat2, \n",
    "              cache='cache/tbmm_500_26_72_26.tc', \n",
    "              **tune_settings, \n",
    "              options=tc.Options('mlp'))"
   ]
  },
  {
   "cell_type": "code",
   "execution_count": null,
   "metadata": {
    "collapsed": true
   },
   "outputs": [],
   "source": [
    "# run twice to prep cuda\n",
    "\n",
    "tbmm(mat1, mat2, cache='cache/tbmm_500_26_72_26.tc')\n",
    "torch.cuda.synchronize()\n",
    "tbmm(mat1, mat2, cache='cache/tbmm_500_26_72_26.tc')\n",
    "torch.cuda.synchronize()"
   ]
  },
  {
   "cell_type": "code",
   "execution_count": null,
   "metadata": {},
   "outputs": [],
   "source": [
    "# test performance by running multiple iterations\n",
    "output = torch.zeros(500, 26, 26).cuda()\n",
    "\n",
    "timings = np.zeros(1000)\n",
    "\n",
    "for i in range(1000):\n",
    "    start = time.perf_counter()\n",
    "    tbmm(mat1, mat2, cache='cache/tbmm_500_26_72_26.tc', outputs=output)\n",
    "    torch.cuda.synchronize()\n",
    "    timings[i] = time.perf_counter() - start\n",
    "\n",
    "\n",
    "total_elapsed = np.sum(timings)\n",
    "print('total time: ' + str(total_elapsed))\n",
    "\n",
    "# get percentile statistics\n",
    "percentiles = np.percentile(timings, [0, 50, 90])\n",
    "print(percentiles)\n",
    "\n"
   ]
  },
  {
   "cell_type": "code",
   "execution_count": null,
   "metadata": {},
   "outputs": [],
   "source": [
    "# time the torch equivalent\n",
    "\n",
    "timings = np.zeros(1000)\n",
    "\n",
    "for i in range(1000):\n",
    "    start = time.perf_counter()\n",
    "    output = mat1.matmul(mat2.permute(0, 2, 1))\n",
    "    torch.cuda.synchronize()\n",
    "    timings[i] = time.perf_counter() - start\n",
    "\n",
    "total_elapsed = np.sum(timings)\n",
    "print('total time: ' + str(total_elapsed))\n",
    "\n",
    "# get percentile statistics\n",
    "percentiles = np.percentile(timings, [0, 50, 90])\n",
    "print(percentiles)\n",
    "\n"
   ]
  },
  {
   "cell_type": "code",
   "execution_count": null,
   "metadata": {},
   "outputs": [],
   "source": [
    "# tune using a completely different size (B, N, M, K) = (800, 80, 40, 80), time how long it takes\n",
    "\n",
    "mat1 = torch.randn(500, 80, 40).cuda()\n",
    "mat2 = torch.randn(500, 80, 40).cuda()\n",
    "\n",
    "tbmm = tc.define(tbmm_lang, name='tbmm')\n",
    "tbmm.autotune(mat1, mat2, \n",
    "              cache='cache/tbmm_800_80_40_80.tc', \n",
    "              **tune_settings, \n",
    "              options=tc.Options('mlp'))"
   ]
  },
  {
   "cell_type": "code",
   "execution_count": null,
   "metadata": {
    "collapsed": true
   },
   "outputs": [],
   "source": [
    "# run twice to prep cuda\n",
    "\n",
    "tbmm(mat1, mat2, cache='cache/tbmm_800_80_40_80.tc')\n",
    "torch.cuda.synchronize()\n",
    "tbmm(mat1, mat2, cache='cache/tbmm_800_80_40_80.tc')\n",
    "torch.cuda.synchronize()"
   ]
  },
  {
   "cell_type": "code",
   "execution_count": null,
   "metadata": {},
   "outputs": [],
   "source": [
    "# test performance by running multiple iterations\n",
    "output = torch.zeros(800, 80, 80).cuda()\n",
    "\n",
    "timings = np.zeros(1000)\n",
    "\n",
    "for i in range(1000):\n",
    "    start = time.perf_counter()\n",
    "    tbmm(mat1, mat2, cache='cache/tbmm_800_80_40_80.tc', outputs=output)\n",
    "    torch.cuda.synchronize()\n",
    "    timings[i] = time.perf_counter() - start\n",
    "\n",
    "\n",
    "total_elapsed = np.sum(timings)\n",
    "print('total time: ' + str(total_elapsed))\n",
    "\n",
    "# get percentile statistics\n",
    "percentiles = np.percentile(timings, [0, 50, 90])\n",
    "print(percentiles)\n",
    "\n"
   ]
  },
  {
   "cell_type": "code",
   "execution_count": null,
   "metadata": {},
   "outputs": [],
   "source": [
    "# time the torch equivalent\n",
    "\n",
    "timings = np.zeros(1000)\n",
    "\n",
    "for i in range(1000):\n",
    "    start = time.perf_counter()\n",
    "    output = mat1.matmul(mat2.permute(0, 2, 1))\n",
    "    torch.cuda.synchronize()\n",
    "    timings[i] = time.perf_counter() - start\n",
    "\n",
    "total_elapsed = np.sum(timings)\n",
    "print('total time: ' + str(total_elapsed))\n",
    "\n",
    "# get percentile statistics\n",
    "percentiles = np.percentile(timings, [0, 50, 90])\n",
    "print(percentiles)\n",
    "\n"
   ]
  },
  {
   "cell_type": "code",
   "execution_count": null,
   "metadata": {},
   "outputs": [],
   "source": [
    "# tune using a completely different size (B, N, M, K) = (200, 200, 200, 200), time how long it takes\n",
    "\n",
    "mat1 = torch.randn(200, 200, 200).cuda()\n",
    "mat2 = torch.randn(200, 200, 200).cuda()\n",
    "\n",
    "tbmm = tc.define(tbmm_lang, name='tbmm')\n",
    "tbmm.autotune(mat1, mat2, \n",
    "              cache='cache/tbmm_slow.tc', \n",
    "              **tune_settings, \n",
    "              options=tc.Options('mlp'))"
   ]
  },
  {
   "cell_type": "code",
   "execution_count": 4,
   "metadata": {
    "collapsed": true
   },
   "outputs": [],
   "source": [
    "\n",
    "mat1 = torch.randn(200, 200, 200).cuda()\n",
    "mat2 = torch.randn(200, 200, 200).cuda()"
   ]
  },
  {
   "cell_type": "code",
   "execution_count": null,
   "metadata": {
    "collapsed": true
   },
   "outputs": [],
   "source": [
    "# run twice to prep cuda\n",
    "\n",
    "tbmm(mat1, mat2, cache='cache/tbmm_200_200_200_200.tc')\n",
    "torch.cuda.synchronize()\n",
    "tbmm(mat1, mat2, cache='cache/tbmm_200_200_200_200.tc')\n",
    "torch.cuda.synchronize()"
   ]
  },
  {
   "cell_type": "code",
   "execution_count": 8,
   "metadata": {},
   "outputs": [
    {
     "name": "stdout",
     "output_type": "stream",
     "text": [
      "total time: 12.460763718\n",
      "[ 0.01223893  0.01245288  0.01253984]\n"
     ]
    }
   ],
   "source": [
    "# test performance by running multiple iterations\n",
    "output = torch.zeros(200, 200, 200).cuda()\n",
    "\n",
    "timings = np.zeros(1000)\n",
    "\n",
    "for i in range(1000):\n",
    "    start = time.perf_counter()\n",
    "    tbmm(mat1, mat2, cache='cache/tbmm_slow.tc', outputs=output)\n",
    "    torch.cuda.synchronize()\n",
    "    timings[i] = time.perf_counter() - start\n",
    "\n",
    "\n",
    "total_elapsed = np.sum(timings)\n",
    "print('total time: ' + str(total_elapsed))\n",
    "\n",
    "# get percentile statistics\n",
    "percentiles = np.percentile(timings, [0, 50, 90])\n",
    "print(percentiles)\n"
   ]
  },
  {
   "cell_type": "code",
   "execution_count": 10,
   "metadata": {},
   "outputs": [
    {
     "name": "stdout",
     "output_type": "stream",
     "text": [
      "total time: 2.47778633102\n",
      "[ 0.00219591  0.0024615   0.00259213]\n"
     ]
    }
   ],
   "source": [
    "# time the torch equivalent\n",
    "\n",
    "timings = np.zeros(1000)\n",
    "\n",
    "for i in range(1000):\n",
    "    start = time.perf_counter()\n",
    "    output = mat1.matmul(mat2.permute(0, 2, 1))\n",
    "    torch.cuda.synchronize()\n",
    "    timings[i] = time.perf_counter() - start\n",
    "\n",
    "total_elapsed = np.sum(timings)\n",
    "print('total time: ' + str(total_elapsed))\n",
    "\n",
    "# get percentile statistics\n",
    "percentiles = np.percentile(timings, [0, 50, 90])\n",
    "print(percentiles)\n",
    "\n"
   ]
  },
  {
   "cell_type": "code",
   "execution_count": null,
   "metadata": {
    "collapsed": true
   },
   "outputs": [],
   "source": []
  }
 ],
 "metadata": {
  "kernelspec": {
   "display_name": "Python 3",
   "language": "python",
   "name": "python3"
  },
  "language_info": {
   "codemirror_mode": {
    "name": "ipython",
    "version": 3
   },
   "file_extension": ".py",
   "mimetype": "text/x-python",
   "name": "python",
   "nbconvert_exporter": "python",
   "pygments_lexer": "ipython3",
   "version": "3.6.2"
  }
 },
 "nbformat": 4,
 "nbformat_minor": 2
}
