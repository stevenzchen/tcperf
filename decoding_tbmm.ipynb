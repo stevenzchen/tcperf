{
 "cells": [
  {
   "cell_type": "code",
   "execution_count": 1,
   "metadata": {
    "collapsed": true
   },
   "outputs": [],
   "source": [
    "import tensor_comprehensions as tc\n",
    "import torch\n",
    "import numpy as np\n",
    "import matplotlib.pyplot as plt\n",
    "\n",
    "import os\n",
    "import sys\n",
    "import logging\n",
    "import time"
   ]
  },
  {
   "cell_type": "code",
   "execution_count": 3,
   "metadata": {},
   "outputs": [],
   "source": [
    "tc.decode('cache/tbmm_500_26_72_26.tc.options')"
   ]
  },
  {
   "cell_type": "code",
   "execution_count": 4,
   "metadata": {
    "collapsed": true
   },
   "outputs": [],
   "source": [
    "# try doing tbmm using the options provided in the paper\n",
    "\n",
    "options = tc.Options('naive')"
   ]
  },
  {
   "cell_type": "code",
   "execution_count": 5,
   "metadata": {},
   "outputs": [
    {
     "name": "stdout",
     "output_type": "stream",
     "text": [
      "<tensor_comprehensions.mapping_options.Options object at 0x7fca5bbd77a0>\n"
     ]
    }
   ],
   "source": [
    "print(options)"
   ]
  },
  {
   "cell_type": "code",
   "execution_count": 13,
   "metadata": {},
   "outputs": [
    {
     "data": {
      "text/plain": [
       "<tensor_comprehensions.mapping_options.Options at 0x7fca5bbd77a0>"
      ]
     },
     "execution_count": 13,
     "metadata": {},
     "output_type": "execute_result"
    }
   ],
   "source": [
    "options.tile([1])\n",
    "options.mapToThreads([7, 26])\n",
    "options.mapToBlocks([72, 16, 1])\n",
    "options.useSharedMemory(True)\n",
    "options.unrollCopyShared(True)\n",
    "options.unroll(128)\n"
   ]
  },
  {
   "cell_type": "code",
   "execution_count": 14,
   "metadata": {
    "collapsed": true
   },
   "outputs": [],
   "source": [
    "tbmm_lang = \"\"\"\n",
    "    def tbmm(float(B, N, M) X, float(B, K, M) Y) -> (Z) {\n",
    "        Z(b, n, k) +=! X(b, n, m) * Y(b, k, m)\n",
    "    }\n",
    "\"\"\"\n",
    "\n",
    "tbmm = tc.define(tbmm_lang, name='tbmm')"
   ]
  },
  {
   "cell_type": "code",
   "execution_count": 15,
   "metadata": {},
   "outputs": [
    {
     "data": {
      "text/plain": [
       "Variable containing:\n",
       "( 0 ,.,.) = \n",
       " -1.6885e+01 -7.3772e+00  8.4065e+00  ...   1.4715e+01  5.7064e+00 -1.4126e+00\n",
       "  1.1810e+01  4.6003e+00  2.9482e+00  ...   1.3520e+00 -6.3731e+00 -8.5967e+00\n",
       "  3.8169e+00  1.2704e+01 -1.9057e+00  ...   1.1380e+00 -1.2910e+01 -8.8803e+00\n",
       "                 ...                   ⋱                   ...                \n",
       " -3.8452e+00 -6.2901e+00 -1.2869e+01  ...  -5.9708e+00 -8.7984e+00 -1.1660e+01\n",
       " -2.3053e+00  1.0173e-01  2.2982e+01  ...  -1.3297e+01  1.3197e+00  5.6996e+00\n",
       "  1.8203e+00 -3.9348e+00  1.4310e+00  ...   1.8315e-01  1.2535e+01  8.7401e+00\n",
       "\n",
       "( 1 ,.,.) = \n",
       " -3.3645e+00 -1.0240e+01  4.7245e+00  ...   3.6880e+00  5.7236e+00  8.5060e+00\n",
       " -1.1546e+01 -2.9363e+00  4.7658e+00  ...   1.5735e+00 -1.0690e+00 -6.7049e+00\n",
       "  7.0505e+00  2.3530e+00  3.0476e+00  ...  -5.0394e+00  1.2592e+01  5.2499e+00\n",
       "                 ...                   ⋱                   ...                \n",
       "  9.1670e-01 -2.2322e+01  1.4825e+00  ...   6.9605e+00 -5.0934e+00 -1.8117e+01\n",
       "  1.1960e+01 -1.6084e+01 -1.0320e+01  ...   4.2157e+00  1.7492e+00 -4.7696e-01\n",
       " -6.7656e+00  1.7493e+00 -1.2652e+01  ...  -5.2639e+00  1.3829e+01  1.0511e+01\n",
       "\n",
       "( 2 ,.,.) = \n",
       " -5.3107e+00 -1.2438e+01 -1.0783e+01  ...  -6.0854e-01 -4.4747e-03  1.5731e+00\n",
       "  2.5060e+00 -4.9372e-01  2.7621e+00  ...  -1.5963e+00 -1.7090e+01 -4.3376e+00\n",
       "  1.0295e+01  5.0666e+00  8.5462e+00  ...  -9.3711e+00 -5.5354e+00  1.5009e+00\n",
       "                 ...                   ⋱                   ...                \n",
       " -3.3524e+00  5.3151e+00 -1.5964e+01  ...  -1.3636e+01 -3.2386e+00 -1.0694e+01\n",
       " -2.4722e+00  1.3577e+00  1.4887e+01  ...   1.1217e+01  1.3274e+01  9.4426e-01\n",
       " -1.0143e-01 -4.5455e+00  4.6310e-01  ...  -8.0429e-01  1.1948e+00  1.3170e+00\n",
       "... \n",
       "\n",
       "(497,.,.) = \n",
       "  4.4239e+00  3.7414e+00 -1.2874e+00  ...   3.0918e+00 -4.0550e+00 -8.0086e+00\n",
       " -1.0256e+01  1.0278e+01  3.0533e+00  ...   7.7614e+00 -1.2535e-01 -2.0559e+00\n",
       " -1.2196e+01 -3.2298e+00 -1.3764e+01  ...  -8.4429e+00  6.1091e-02  4.3500e-01\n",
       "                 ...                   ⋱                   ...                \n",
       "  3.9228e+00  7.5395e+00 -1.7890e+00  ...  -4.9045e+00 -1.5810e+00  5.9981e+00\n",
       " -1.6863e+01  8.0663e+00  3.3368e+00  ...  -9.3776e+00  5.3002e-01  7.6978e+00\n",
       " -1.2734e+01  1.7949e+01  5.1018e+00  ...   6.5490e-01 -4.6689e+00  9.8835e+00\n",
       "\n",
       "(498,.,.) = \n",
       " -1.2338e+01  7.9204e-01 -2.3668e+00  ...   2.3775e+01  5.8343e-02 -4.7491e+00\n",
       "  1.1543e+00  8.7629e+00 -1.5609e+01  ...  -2.0145e+01  7.0012e+00  2.7164e-01\n",
       " -4.6296e+00  4.1466e+00  2.8423e+00  ...   8.0428e+00  6.3224e+00  3.8652e+00\n",
       "                 ...                   ⋱                   ...                \n",
       " -1.2850e-01 -6.8074e+00 -1.3256e+00  ...   5.4313e+00  2.5449e-01 -8.2873e-01\n",
       " -7.3687e+00  1.9294e+01 -8.3032e-01  ...  -4.8841e+00  9.7909e-01  5.7821e+00\n",
       " -3.2456e+00 -4.7695e+00 -4.1572e+00  ...   1.0288e+01 -4.2369e+00  4.3285e+00\n",
       "\n",
       "(499,.,.) = \n",
       " -6.8114e+00 -1.0122e+01 -1.6552e+01  ...  -1.9351e+00  1.5211e+01  1.5967e+01\n",
       "  3.7678e+00  2.9402e+00 -4.5985e-01  ...  -4.7081e-01  5.8619e+00 -5.0531e+00\n",
       "  5.5782e+00 -3.9142e+00  1.2506e+01  ...   1.8788e+00 -1.5891e-02 -6.0420e+00\n",
       "                 ...                   ⋱                   ...                \n",
       "  1.1109e+01  2.1793e+00  5.7100e+00  ...   6.9513e+00 -1.3230e+01 -2.8326e+00\n",
       " -5.6919e+00 -1.7498e+01 -1.2807e+01  ...  -8.1488e-01 -1.2543e+01 -1.9682e+00\n",
       "  7.5828e+00 -4.7450e+00 -6.7274e+00  ...  -2.8942e+00 -3.0355e+00  6.4413e-01\n",
       "[torch.cuda.FloatTensor of size 500x26x26 (GPU 0)]"
      ]
     },
     "execution_count": 15,
     "metadata": {},
     "output_type": "execute_result"
    }
   ],
   "source": [
    "mat1 = torch.randn(500, 26, 72).cuda()\n",
    "mat2 = torch.randn(500, 26, 72).cuda()\n",
    "\n",
    "tbmm(mat1, mat2, options=options)"
   ]
  },
  {
   "cell_type": "code",
   "execution_count": 17,
   "metadata": {},
   "outputs": [
    {
     "name": "stdout",
     "output_type": "stream",
     "text": [
      "total time: 0.153102859998\n",
      "[ 0.00013205  0.00014391  0.00017327]\n"
     ]
    }
   ],
   "source": [
    "# test performance by running multiple iterations\n",
    "output = torch.zeros(500, 26, 26).cuda()\n",
    "\n",
    "timings = np.zeros(1000)\n",
    "\n",
    "for i in range(1000):\n",
    "    start = time.perf_counter()\n",
    "    tbmm(mat1, mat2, cache='cache/tbmm_500_26_72_26.tc', outputs=output)\n",
    "    torch.cuda.synchronize()\n",
    "    timings[i] = time.perf_counter() - start\n",
    "\n",
    "\n",
    "total_elapsed = np.sum(timings)\n",
    "print('total time: ' + str(total_elapsed))\n",
    "\n",
    "# get percentile statistics\n",
    "percentiles = np.percentile(timings, [0, 50, 90])\n",
    "print(percentiles)\n",
    "\n"
   ]
  },
  {
   "cell_type": "code",
   "execution_count": null,
   "metadata": {
    "collapsed": true
   },
   "outputs": [],
   "source": []
  }
 ],
 "metadata": {
  "kernelspec": {
   "display_name": "Python 3",
   "language": "python",
   "name": "python3"
  },
  "language_info": {
   "codemirror_mode": {
    "name": "ipython",
    "version": 3
   },
   "file_extension": ".py",
   "mimetype": "text/x-python",
   "name": "python",
   "nbconvert_exporter": "python",
   "pygments_lexer": "ipython3",
   "version": "3.6.2"
  }
 },
 "nbformat": 4,
 "nbformat_minor": 2
}
